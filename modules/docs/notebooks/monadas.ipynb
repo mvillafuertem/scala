{
 "cells": [
  {
   "cell_type": "markdown",
   "metadata": {
    "language": "text"
   },
   "source": [
    "# monadas\n",
    "\n",
    "\n",
    "Es un concepto, una idea, para secuenciar operaciones.\n",
    "\n",
    "Debe cumplir tres leyes\n",
    "\n",
    "1. Identidad izquierda\n",
    "\n",
    "> bind f (unit v) == f v\n",
    "> \n",
    "> \n",
    "\n",
    "1. Identidad derecha\n",
    "\n",
    "> bind unit m == m\n",
    "> \n",
    "> \n",
    "\n",
    "1. Asociatividad\n",
    "\n",
    "> bind g (bind f m) == bind (bind g . f) m\n",
    "> \n",
    "> \n",
    "\n",
    "<div style=\"color: rgb(212, 212, 212); background-color: rgb(30, 30, 30); font-family: &quot;Hasklig, Fira Code, Menlo, Monaco, fixed&quot;, Menlo, Monaco, &quot;Courier New&quot;, monospace; font-size: 15px; line-height: 23px; white-space: pre;\"><div><span style=\"color: rgb(61, 201, 176);\">Monads</span> have certain properties:<br></div><div><ol><li><span style=\"color: #3dc9b0;\">A</span> parametrized <span style=\"color: #569cd6;font-weight: bold;\">type</span> — e<span style=\"color: #dcdcdc;\">.</span>g<span style=\"color: #dcdcdc;\">,</span> <span style=\"color: #3dc9b0;\">Option</span><span style=\"color: #dcdcdc;\">[</span><span style=\"color: #3dc9b0;\">T</span><span style=\"color: #dcdcdc;\">]</span></li><li><span style=\"color: #3dc9b0;\">Unit</span> <span style=\"color: #dcdcdc;\">(</span><span style=\"color: #569cd6;font-weight: bold;\">return</span><span style=\"color: #dcdcdc;\">)</span> — e<span style=\"color: #dcdcdc;\">.</span>g<span style=\"color: #dcdcdc;\">,</span> <span style=\"color: #3dc9b0;\">Option</span><span style=\"color: #dcdcdc;\">.</span>apply</li><li><span style=\"color: #3dc9b0;\">FlatMap</span> <span style=\"color: #dcdcdc;\">(</span>bind<span style=\"color: #dcdcdc;\">)</span> —e<span style=\"color: #dcdcdc;\">.</span>g<span style=\"color: #dcdcdc;\">,</span> <span style=\"color: #3dc9b0;\">Option</span><span style=\"color: #dcdcdc;\">.</span>flatMap</li></ol></div><div><br></div><div><div style=\"line-height: 23px;\"><div><span style=\"color: #3dc9b0;\">Unit</span> is defined as: <span style=\"color: #3dc9b0;\">A</span> =&gt; <span style=\"color: #3dc9b0;\">Monad</span><span style=\"color: #dcdcdc;\">[</span><span style=\"color: #3dc9b0;\">A</span><span style=\"color: #dcdcdc;\">]</span></div><div><span style=\"color: #3dc9b0;\">FlatMap</span> is defined as: <span style=\"color: #dcdcdc;\">(</span><span style=\"color: #3dc9b0;\">Monad</span><span style=\"color: #dcdcdc;\">[</span><span style=\"color: #3dc9b0;\">A</span><span style=\"color: #dcdcdc;\">],</span> <span style=\"color: #3dc9b0;\">A</span> =&gt; <span style=\"color: #3dc9b0;\">Monad</span><span style=\"color: #dcdcdc;\">[</span><span style=\"color: #3dc9b0;\">B</span><span style=\"color: #dcdcdc;\">])</span> =&gt; <span style=\"color: #3dc9b0;\">Monad</span><span style=\"color: #dcdcdc;\">[</span><span style=\"color: #3dc9b0;\">B</span><span style=\"color: #dcdcdc;\">]</span></div><div><span style=\"color: #3dc9b0;\">Map</span> is defined as <span style=\"color: #3dc9b0;\">Monad</span><span style=\"color: #dcdcdc;\">[</span><span style=\"color: #3dc9b0;\">A</span><span style=\"color: #dcdcdc;\">]</span> =&gt; <span style=\"color: #3dc9b0;\">Monad</span><span style=\"color: #dcdcdc;\">[</span><span style=\"color: #3dc9b0;\">B</span><span style=\"color: #dcdcdc;\">].</span></div></div></div><div><br></div><div><br></div></div><br>\n",
    "\n",
    "\n"
   ]
  },
  {
   "cell_type": "code",
   "execution_count": 1,
   "metadata": {
    "cell.metadata.exec_info": {
     "endTs": 1594560344402,
     "startTs": 1594560344166
    },
    "language": "scala"
   },
   "outputs": [],
   "source": [
    "\n",
    "trait Monad[A] {\n",
    "    def apply[A](value: A): Monad[A]\n",
    "    def map[A](f: A => B): Monad[B]\n",
    "    def flatMap[A, B](f: Monad[A] => Monad[B]): Monad[B]\n",
    "}"
   ]
  },
  {
   "cell_type": "markdown",
   "metadata": {
    "language": "text"
   },
   "source": [
    "Además tenemos dos operaciones, ojo por ejemplo la Monada Try no tiene estas operaciones, se suele decir que no es una monada pura<br>\n",
    "\n",
    "1. Plus y Zero (zero o elemento neutro) forman un Monoide\n",
    "\n",
    "> plus zero m == m\n",
    "> \n",
    "> plus m zero == m\n",
    "> \n",
    "> plus (plus m1 m2) m3 == plus m1 (plus m2 m3)\n",
    "> \n",
    "> \n",
    "\n",
    "<br>\n",
    "\n",
    "1. Zero izquierdo \n",
    "\n",
    "> bind f zero == zero\n",
    "> \n",
    "> \n",
    "\n",
    "<br>\n",
    "\n"
   ]
  },
  {
   "cell_type": "code",
   "execution_count": 3,
   "metadata": {
    "cell.metadata.exec_info": {
     "endTs": 1594560889294,
     "startTs": 1594560889094
    },
    "language": "scala"
   },
   "outputs": [],
   "source": [
    "trait Monad[A] {\n",
    "    def apply[A](value: A): Monad[A]\n",
    "    def map[A](f: A => B): Monad[B]\n",
    "    def flatMap[A, B](f: Monad[A] => Monad[B]): Monad[B]\n",
    "    def empty[A](): Monad[A]\n",
    "    def ++(other: Monad[A]): Monad[A]\n",
    "}"
   ]
  }
 ],
 "metadata": {
  "config": {
   "dependencies": {},
   "env": {},
   "exclusions": [],
   "repositories": []
  },
  "kernelspec": {
   "display_name": "Scala 2.13.5",
   "language": "scala",
   "name": "scala2.13.5"
  },
  "language_info": {
   "codemirror_mode": "text/x-scala",
   "file_extension": ".sc",
   "mimetype": "text/x-scala",
   "name": "scala",
   "nbconvert_exporter": "script",
   "version": "2.13.5"
  }
 },
 "nbformat": 4,
 "nbformat_minor": 4
}
