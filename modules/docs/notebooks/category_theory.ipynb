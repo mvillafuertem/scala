{
 "cells": [
  {
   "cell_type": "markdown",
   "id": "f44f0cda-eebd-42cb-8178-a54139c62e23",
   "metadata": {},
   "source": [
    "# Category Theory\n",
    "\n",
    "https://www.youtube.com/watch?v=SmXB2K_5lcA&list=PLVFrD1dmDdvcjCQDPhExqP56jqxp0Ssn_\n",
    "\n",
    "https://www.youtube.com/watch?v=gui_SE8rJUM\n",
    "\n",
    "https://miklos-martin.github.io/learn/fp/category-theory/2018/02/01/adventures-in-category-theory-the-algebra-of-types.html"
   ]
  },
  {
   "cell_type": "code",
   "execution_count": null,
   "id": "db09ef28-ad5a-4656-9931-226236ffe4aa",
   "metadata": {},
   "outputs": [],
   "source": []
  }
 ],
 "metadata": {
  "kernelspec": {
   "display_name": "Scala 2.13.5",
   "language": "scala",
   "name": "scala2.13.5"
  },
  "language_info": {
   "codemirror_mode": "text/x-scala",
   "file_extension": ".sc",
   "mimetype": "text/x-scala",
   "name": "scala",
   "nbconvert_exporter": "script",
   "version": "2.13.5"
  }
 },
 "nbformat": 4,
 "nbformat_minor": 5
}
