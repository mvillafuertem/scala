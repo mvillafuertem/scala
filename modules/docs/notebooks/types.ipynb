{
 "cells": [
  {
   "cell_type": "markdown",
   "id": "76b57891-ebd6-4bd1-ab39-b2072cc48d6c",
   "metadata": {},
   "source": [
    "# Types\n",
    "\n",
    "https://kubuszok.com/2018/kinds-of-types-in-scala-part-1/\n",
    "\n",
    "https://kubuszok.com/2018/kinds-of-types-in-scala-part-2/\n",
    "\n",
    "https://kubuszok.com/2018/kinds-of-types-in-scala-part-3/"
   ]
  },
  {
   "cell_type": "markdown",
   "id": "091d5287-f460-4e2a-a340-707d5d6b203a",
   "metadata": {},
   "source": [
    "Cuando intentamos explicar a alguien porque yo prefiero Scala en vez de Java, y porque la programación funcional funciona mejor en Scala, uno de los argumentos es que Scala tienen un mejor __Sistema de Tipos__. Pero que significa esto? Cuál es la ventaja que tiene sobre otros lenguajes tipados como Java o Go? "
   ]
  },
  {
   "cell_type": "code",
   "execution_count": null,
   "id": "b9589201-3ea7-4361-bb27-5978da5f9694",
   "metadata": {},
   "outputs": [],
   "source": [
    "## Origen de los tipos\n",
    "\n",
    "Primero de todo, vamos a pensar que "
   ]
  }
 ],
 "metadata": {
  "kernelspec": {
   "display_name": "Scala 2.13.5",
   "language": "scala",
   "name": "scala2.13.5"
  },
  "language_info": {
   "codemirror_mode": "text/x-scala",
   "file_extension": ".sc",
   "mimetype": "text/x-scala",
   "name": "scala",
   "nbconvert_exporter": "script",
   "version": "2.13.5"
  }
 },
 "nbformat": 4,
 "nbformat_minor": 5
}
