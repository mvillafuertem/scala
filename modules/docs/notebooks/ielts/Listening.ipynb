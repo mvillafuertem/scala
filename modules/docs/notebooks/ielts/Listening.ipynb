{
 "cells": [
  {
   "cell_type": "markdown",
   "id": "7e147b46-0390-463e-a2bd-46cff79e0d72",
   "metadata": {
    "pycharm": {
     "name": "#%% md\n"
    }
   },
   "source": [
    "https://medium.com/analytics-vidhya/the-ultimate-markdown-guide-for-jupyter-notebook-d5e5abf728fd"
   ]
  },
  {
   "cell_type": "markdown",
   "id": "2a8c3092-d789-47fc-a730-d1bd82c529df",
   "metadata": {
    "pycharm": {
     "name": "#%% md\n"
    }
   },
   "source": [
    "# Listening\n",
    "\n",
    "https://www.youtube.com/watch?v=uMkjD5E7rAo\n",
    "\n",
    "\n",
    "\n",
    "|      |  Answer  | Points |\n",
    "|------|:--------:|--------|\n",
    "|  01  |  11:30   |        |\n",
    "|  02  |  11:50   |        |\n",
    "|  03  |  central london        |        |\n",
    "|  04  |  ticket office         |        |\n",
    "|  05  |  10 pounds      |        |\n",
    "|  06  |        |        |\n",
    "|  07  |        |        |\n",
    "|  08  |  6      |        |\n",
    "|  09  |  83     |        |\n",
    "|  10  |  Alexander      |        |\n",
    "|  11  |        |        |\n",
    "|  12  |        |        |\n",
    "|  13  |        |        |\n",
    "|  14  |        |        |\n",
    "\n",
    "- [x] Some task\n",
    "- [ ] <span style=\"font-family:Comic Sans MS\">Some more task</span>\n",
    "\n",
    "<div class=\"alert alert-block alert-info\">\n",
    "<b>Tip:</b> Use blue boxes (alert-info) for tips and notes.</div>"
   ]
  },
  {
   "cell_type": "markdown",
   "id": "9233d3ef-0092-42ef-8551-edf9cb8e1054",
   "metadata": {
    "pycharm": {
     "name": "#%% md\n"
    }
   },
   "source": [
    "<nav>\n",
    "<a href=”https://www.google.com\">LinkedIn</a> |\n",
    "<a href=”/css/”>Github</a> |\n",
    "<a href=”/js/”>Medium</a> |\n",
    "</nav>"
   ]
  },
  {
   "cell_type": "markdown",
   "id": "3a185353-7787-4e24-ae45-a804524f0cae",
   "metadata": {
    "pycharm": {
     "name": "#%% md\n"
    }
   },
   "source": [
    "Do not forget to buy <mark>milk</mark> today.\n"
   ]
  },
  {
   "cell_type": "markdown",
   "id": "ebbef9cd-7b51-4556-931d-03ddd64b2be5",
   "metadata": {
    "pycharm": {
     "name": "#%% md\n"
    }
   },
   "source": [
    "<span style=\"font-family:Comic Sans MS\">This is a text</span>\n"
   ]
  },
  {
   "cell_type": "markdown",
   "id": "7cd6b11f-c492-4f33-aa60-7007a1ab3394",
   "metadata": {
    "pycharm": {
     "name": "#%% md\n"
    }
   },
   "source": [
    "<span style=\"color:green\">Text</span>"
   ]
  },
  {
   "cell_type": "markdown",
   "id": "098d64a2-fb13-4b45-b80a-762c6925e71c",
   "metadata": {
    "pycharm": {
     "name": "#%% md\n"
    }
   },
   "source": [
    "# Upload data files\n",
    "<style>\n",
    "   div.jp-MarkdownOutput {font-family: \"Times New Roman\", Times, serif;}\n",
    "</style>\n",
    "\n",
    "<p class=\"lead\">This <a href=\"https://jupyter.org/\">Jupyter notebook</a>\n",
    "shows how to upload data files to be converted\n",
    "to [Photon-HDF5](http://photon-hdf5.org) format. </p>\n",
    "\n",
    "<i>Please send feedback and report any problems to the \n",
    "[Photon-HDF5 google group](https://groups.google.com/forum/#!forum/photon-hdf5).</i>\n",
    "\n",
    "<br>\n",
    "<div class=\"alert warning\">\n",
    "<b>NOTE</b> Uploading data files is only necessary when running the notebook online.\n",
    "</div>"
   ]
  },
  {
   "cell_type": "markdown",
   "id": "af2d50c3-ab64-430e-9cf1-e594d180639a",
   "metadata": {
    "pycharm": {
     "name": "#%% md\n"
    }
   },
   "source": [
    "# Upload data files\n",
    "\n",
    "<p class=\"lead\">This <a href=\"https://jupyter.org/\">Jupyter notebook</a>\n",
    "shows how to upload data files to be converted\n",
    "to [Photon-HDF5](http://photon-hdf5.org) format. </p>\n",
    "\n",
    "<i>Please send feedback and report any problems to the \n",
    "[Photon-HDF5 google group](https://groups.google.com/forum/#!forum/photon-hdf5).</i>\n",
    "\n",
    "<br>\n",
    "<div class=\"alert warning\">\n",
    "<b>NOTE</b> Uploading data files is only necessary when running the notebook online.\n",
    "</div>\n",
    "\n",
    "\n",
    "<span style=\"color: white; background-color: OrangeRed; padding: 2px 5px 2px 5px; border-radius: 2px;\">Example text</span>\n"
   ]
  },
  {
   "cell_type": "markdown",
   "id": "25023362-0b66-4e8e-b176-dfe8221cd893",
   "metadata": {
    "pycharm": {
     "name": "#%% md\n"
    }
   },
   "source": [
    "%%html\n",
    "<style>\n",
    ".output_wrapper, .output {\n",
    "    height:auto !important;\n",
    "    max-height: none;\n",
    "}\n",
    ".output_scroll {\n",
    "    box-shadow:none !important;\n",
    "    webkit-box-shadow:none !important;\n",
    "}\n",
    "\n",
    ".package_header {\n",
    "    width: 100%;\n",
    "    background-color: #0e2b59;\n",
    "    color: #ffffff;\n",
    "    font-size: 14px;\n",
    "    text-align: center;\n",
    "    padding-top: 8px;\n",
    "    padding-right: 8px;\n",
    "    padding-bottom: 8px;\n",
    "    padding-left: 8px;\n",
    "}\n",
    "\n",
    ".placeholder {\n",
    "    width: 100%;\n",
    "    background-color: #ffffff;\n",
    "    height: 6px;\n",
    "}\n",
    "\n",
    ".passed_test_table {\n",
    "  display: table;         \n",
    "  width: 100%;         \n",
    "\n",
    "  background-color: #ebffd3;                \n",
    "  border-spacing: 5px;\n",
    "}\n",
    "\n",
    "# (...) rest of css classes omitted \n",
    "</style>"
   ]
  },
  {
   "cell_type": "code",
   "execution_count": null,
   "id": "9336eb3c-bcdb-45b1-ae6a-bc59d7ce6df7",
   "metadata": {
    "pycharm": {
     "name": "#%%\n"
    }
   },
   "outputs": [],
   "source": []
  }
 ],
 "metadata": {
  "kernelspec": {
   "display_name": "Scala 2.13.5",
   "language": "scala",
   "name": "scala2.13.5"
  },
  "language_info": {
   "codemirror_mode": "text/x-scala",
   "file_extension": ".sc",
   "mimetype": "text/x-scala",
   "name": "scala",
   "nbconvert_exporter": "script",
   "version": "2.13.5"
  }
 },
 "nbformat": 4,
 "nbformat_minor": 5
}