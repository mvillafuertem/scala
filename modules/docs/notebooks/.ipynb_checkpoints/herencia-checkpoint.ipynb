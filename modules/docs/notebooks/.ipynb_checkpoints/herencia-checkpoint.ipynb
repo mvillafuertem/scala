{
  "metadata" : {
    "config" : {
      "dependencies" : {
        
      },
      "exclusions" : [
      ],
      "repositories" : [
      ],
      "env" : {
        
      }
    },
    "language_info" : {
      "name" : "scala"
    }
  },
  "nbformat" : 4,
  "nbformat_minor" : 0,
  "cells" : [
    {
      "cell_type" : "markdown",
      "execution_count" : 0,
      "metadata" : {
        "language" : "text"
      },
      "language" : "text",
      "source" : [
        "# herencia\n",
        "\n",
        "\n",
        "http://scg.unibe.ch/archive/papers/Scha03aTraits.pdf<br>\n",
        "\n",
        "http://scg.unibe.ch/archive/papers/Berg07aStatefulTraits.pdf<br>\n",
        "\n",
        "http://www.bracha.org/oopsla90.pdf<br>\n",
        "\n",
        "<br>\n",
        "\n",
        "<br>\n",
        "\n",
        "\n"
      ],
      "outputs" : [
      ]
    }
  ]
}