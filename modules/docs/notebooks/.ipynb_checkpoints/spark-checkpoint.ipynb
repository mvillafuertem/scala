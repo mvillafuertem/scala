{
 "cells": [
  {
   "cell_type": "code",
   "execution_count": 1,
   "id": "dbfb422e-eafe-4535-b2ee-e4bb72a20767",
   "metadata": {
    "pycharm": {
     "name": "#%%\n"
    }
   },
   "outputs": [
    {
     "name": "stdout",
     "output_type": "stream",
     "text": [
      "Scala library version 2.12.13 -- Copyright 2002-2020, LAMP/EPFL and Lightbend, Inc.\n"
     ]
    }
   ],
   "source": [
    "println(scala.util.Properties.versionMsg)"
   ]
  },
  {
   "cell_type": "code",
   "execution_count": 3,
   "id": "5ccf12b9-2bf7-4d4c-ac97-82106e7d71e5",
   "metadata": {
    "tags": [],
    "pycharm": {
     "name": "#%%\n"
    }
   },
   "outputs": [
    {
     "data": {
      "text/plain": [
       "\u001B[32mimport \u001B[39m\u001B[36m$ivy.$                                  \u001B[39m"
      ]
     },
     "execution_count": 3,
     "metadata": {},
     "output_type": "execute_result"
    }
   ],
   "source": [
    "import $ivy.`org.apache.spark::spark-sql:3.1.2`"
   ]
  },
  {
   "cell_type": "code",
   "execution_count": 4,
   "id": "f61689eb-3fd2-45c4-9937-636ebab8e00f",
   "metadata": {
    "pycharm": {
     "name": "#%%\n"
    }
   },
   "outputs": [
    {
     "data": {
      "text/plain": [
       "\u001B[32mimport \u001B[39m\u001B[36morg.apache.spark.sql._\u001B[39m"
      ]
     },
     "execution_count": 4,
     "metadata": {},
     "output_type": "execute_result"
    }
   ],
   "source": [
    "import org.apache.spark.sql._"
   ]
  },
  {
   "cell_type": "code",
   "execution_count": 5,
   "id": "0f46d2d0-1c63-4026-9df2-fd17c26a0649",
   "metadata": {
    "pycharm": {
     "name": "#%%\n"
    }
   },
   "outputs": [
    {
     "data": {
      "text/plain": [
       "\u001B[32mimport \u001B[39m\u001B[36morg.apache.log4j.{Level, Logger}\u001B[39m"
      ]
     },
     "execution_count": 5,
     "metadata": {},
     "output_type": "execute_result"
    }
   ],
   "source": [
    "import org.apache.log4j.{Level, Logger}"
   ]
  },
  {
   "cell_type": "code",
   "execution_count": 6,
   "id": "53e125f4-faf4-42be-8974-29a56381138a",
   "metadata": {
    "pycharm": {
     "name": "#%%\n"
    }
   },
   "outputs": [],
   "source": [
    "Logger.getLogger(\"org\").setLevel(Level.OFF)"
   ]
  },
  {
   "cell_type": "code",
   "execution_count": 10,
   "id": "f18819fc-a5f4-46a2-8a2a-dd321fbcede8",
   "metadata": {
    "pycharm": {
     "name": "#%%\n"
    }
   },
   "outputs": [
    {
     "name": "stdout",
     "output_type": "stream",
     "text": [
      "Getting spark JARs\n",
      "Creating SparkSession\n"
     ]
    },
    {
     "data": {
      "text/html": [
       "<a target=\"_blank\" href=\"http://757c4b8a0d39:8889\">Spark UI</a>"
      ]
     },
     "metadata": {},
     "output_type": "display_data"
    },
    {
     "data": {
      "text/plain": [
       "\u001B[36mspark\u001B[39m: \u001B[32mSparkSession\u001B[39m = org.apache.spark.sql.SparkSession@8d32bd2"
      ]
     },
     "execution_count": 10,
     "metadata": {},
     "output_type": "execute_result"
    }
   ],
   "source": [
    "val spark = org.apache.spark.sql.NotebookSparkSession.builder()\n",
    ".master(\"local[*]\")\n",
    ".config(\"spark.ui.port\", \"8889\")\n",
    ".config(\"spark.testing.memory\", \"471859200\")\n",
    ".getOrCreate()"
   ]
  },
  {
   "cell_type": "code",
   "execution_count": 11,
   "id": "5197c6dc-3e3a-43de-8f29-e6ab56e0aa55",
   "metadata": {
    "pycharm": {
     "name": "#%%\n"
    }
   },
   "outputs": [
    {
     "data": {
      "text/plain": [
       "\u001B[36msc\u001B[39m: \u001B[32morg\u001B[39m.\u001B[32mapache\u001B[39m.\u001B[32mspark\u001B[39m.\u001B[32mSparkContext\u001B[39m = org.apache.spark.SparkContext@76bcd294"
      ]
     },
     "execution_count": 11,
     "metadata": {},
     "output_type": "execute_result"
    }
   ],
   "source": [
    "val sc = spark.sparkContext"
   ]
  },
  {
   "cell_type": "code",
   "execution_count": 13,
   "id": "0fc8ebf1-0591-4c28-9a13-dc8013f310e6",
   "metadata": {
    "pycharm": {
     "name": "#%%\n"
    }
   },
   "outputs": [
    {
     "data": {
      "text/html": [
       "<div>\n",
       "  <span style=\"float: left;\">collect at cmd12.sc:1</span>\n",
       "</div>\n"
      ]
     },
     "metadata": {},
     "output_type": "display_data"
    },
    {
     "data": {
      "text/html": [
       "<div class=\"progress\">\n",
       "  <div class=\"progress-bar\" role=\"progressbar\" style=\"background-color: blue; width: 100%; word-wrap: normal; white-space: nowrap; text-align: center; color: white\" aria-valuenow=\"100\" aria-valuemin=\"0\" aria-valuemax=\"100\">\n",
       "    5 / 5\n",
       "  </div>\n",
       "  <div class=\"progress-bar\" role=\"progressbar\" style=\"background-color: red; width: 0%\" aria-valuenow=\"0\" aria-valuemin=\"0\" aria-valuemax=\"100\"></div>\n",
       "</div>\n"
      ]
     },
     "metadata": {},
     "output_type": "display_data"
    },
    {
     "data": {
      "text/plain": [
       "\u001B[36mres12\u001B[39m: \u001B[32mArray\u001B[39m[\u001B[32mInt\u001B[39m] = \u001B[33mArray\u001B[39m(\n",
       "  \u001B[32m2\u001B[39m,\n",
       "  \u001B[32m4\u001B[39m,\n",
       "  \u001B[32m6\u001B[39m,\n",
       "  \u001B[32m8\u001B[39m,\n",
       "  \u001B[32m10\u001B[39m,\n",
       "  \u001B[32m12\u001B[39m,\n",
       "  \u001B[32m14\u001B[39m,\n",
       "  \u001B[32m16\u001B[39m,\n",
       "  \u001B[32m18\u001B[39m,\n",
       "  \u001B[32m20\u001B[39m,\n",
       "  \u001B[32m22\u001B[39m,\n",
       "  \u001B[32m24\u001B[39m,\n",
       "  \u001B[32m26\u001B[39m,\n",
       "  \u001B[32m28\u001B[39m,\n",
       "  \u001B[32m30\u001B[39m,\n",
       "  \u001B[32m32\u001B[39m,\n",
       "  \u001B[32m34\u001B[39m,\n",
       "  \u001B[32m36\u001B[39m,\n",
       "  \u001B[32m38\u001B[39m,\n",
       "  \u001B[32m40\u001B[39m,\n",
       "  \u001B[32m42\u001B[39m,\n",
       "  \u001B[32m44\u001B[39m,\n",
       "  \u001B[32m46\u001B[39m,\n",
       "  \u001B[32m48\u001B[39m,\n",
       "  \u001B[32m50\u001B[39m,\n",
       "  \u001B[32m52\u001B[39m,\n",
       "  \u001B[32m54\u001B[39m,\n",
       "  \u001B[32m56\u001B[39m,\n",
       "  \u001B[32m58\u001B[39m,\n",
       "  \u001B[32m60\u001B[39m,\n",
       "  \u001B[32m62\u001B[39m,\n",
       "  \u001B[32m64\u001B[39m,\n",
       "  \u001B[32m66\u001B[39m,\n",
       "  \u001B[32m68\u001B[39m,\n",
       "  \u001B[32m70\u001B[39m,\n",
       "  \u001B[32m72\u001B[39m,\n",
       "  \u001B[32m74\u001B[39m,\n",
       "  \u001B[32m76\u001B[39m,\n",
       "..."
      ]
     },
     "execution_count": 13,
     "metadata": {},
     "output_type": "execute_result"
    }
   ],
   "source": [
    "sc.parallelize(1 to 1000).map(_ * 2).collect"
   ]
  },
  {
   "cell_type": "code",
   "execution_count": null,
   "id": "78d4d190-66ff-41c6-8350-f62fb566427b",
   "metadata": {
    "pycharm": {
     "name": "#%%\n"
    }
   },
   "outputs": [],
   "source": []
  }
 ],
 "metadata": {
  "kernelspec": {
   "display_name": "Scala 2.12.13",
   "language": "scala",
   "name": "scala2.12.13"
  },
  "language_info": {
   "codemirror_mode": "text/x-scala",
   "file_extension": ".sc",
   "mimetype": "text/x-scala",
   "name": "scala",
   "nbconvert_exporter": "script",
   "version": "2.12.13"
  }
 },
 "nbformat": 4,
 "nbformat_minor": 5
}