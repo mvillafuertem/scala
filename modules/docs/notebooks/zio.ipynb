{
 "cells": [
  {
   "cell_type": "markdown",
   "metadata": {
    "language": "text"
   },
   "source": [
    "# ZIO\n",
    "\n",
    "This is a text cell. Start editing!"
   ]
  },
  {
   "cell_type": "code",
   "execution_count": 3,
   "metadata": {},
   "outputs": [
    {
     "data": {
      "text/plain": [
       "\u001b[36mres2\u001b[39m: \u001b[32mString\u001b[39m = \u001b[32m\"Scala library version 2.13.5 -- Copyright 2002-2020, LAMP/EPFL and Lightbend, Inc.\"\u001b[39m"
      ]
     },
     "execution_count": 3,
     "metadata": {},
     "output_type": "execute_result"
    }
   ],
   "source": [
    "scala.util.Properties.versionMsg"
   ]
  },
  {
   "cell_type": "code",
   "execution_count": null,
   "metadata": {
    "cell.metadata.exec_info": {
     "endTs": 1645205657155,
     "startTs": 1645205657142
    },
    "language": "scala"
   },
   "outputs": [],
   "source": [
    "import $ivy.`dev.zio::zio:1.0.10`\n",
    "\n",
    "\n",
    "object MyApp extends zio.App {\n",
    "  import zio.console._\n",
    "\n",
    "  def run(args: List[String]): zio.URIO[zio.ZEnv, zio.ExitCode] =\n",
    "    myAppLogic\n",
    "    //.provideSomeLayer(Console.live)\n",
    "    .exitCode\n",
    "\n",
    "  val myAppLogic =\n",
    "    for {\n",
    "      _    <- putStrLn(\"Hello! What is your name?\")\n",
    "      name <- getStrLn\n",
    "      _    <- putStrLn(s\"Hello, ${name}, welcome to ZIO!\")\n",
    "    } yield ()\n",
    "}\n",
    "MyApp.main(Array())"
   ]
  },
  {
   "cell_type": "code",
   "execution_count": 6,
   "metadata": {
    "collapsed": true,
    "jupyter": {
     "outputs_hidden": true
    },
    "tags": []
   },
   "outputs": [
    {
     "name": "stderr",
     "output_type": "stream",
     "text": [
      "Downloading https://repo1.maven.org/maven2/ch/qos/logback/logback-classic/1.2.4/logback-classic-1.2.4.pom\n",
      "Downloaded https://repo1.maven.org/maven2/ch/qos/logback/logback-classic/1.2.4/logback-classic-1.2.4.pom\n",
      "Downloading https://repo1.maven.org/maven2/ch/qos/logback/logback-parent/1.2.4/logback-parent-1.2.4.pom\n",
      "Downloaded https://repo1.maven.org/maven2/ch/qos/logback/logback-parent/1.2.4/logback-parent-1.2.4.pom\n",
      "Downloading https://repo1.maven.org/maven2/ch/qos/logback/logback-core/1.2.4/logback-core-1.2.4.pom\n",
      "Downloading https://repo1.maven.org/maven2/org/slf4j/slf4j-api/1.7.31/slf4j-api-1.7.31.pom\n",
      "Downloaded https://repo1.maven.org/maven2/ch/qos/logback/logback-core/1.2.4/logback-core-1.2.4.pom\n",
      "Downloaded https://repo1.maven.org/maven2/org/slf4j/slf4j-api/1.7.31/slf4j-api-1.7.31.pom\n",
      "Downloading https://repo1.maven.org/maven2/org/slf4j/slf4j-parent/1.7.31/slf4j-parent-1.7.31.pom\n",
      "Downloaded https://repo1.maven.org/maven2/org/slf4j/slf4j-parent/1.7.31/slf4j-parent-1.7.31.pom\n",
      "Downloading https://repo1.maven.org/maven2/ch/qos/logback/logback-core/1.2.4/logback-core-1.2.4-sources.jar\n",
      "Downloading https://repo1.maven.org/maven2/ch/qos/logback/logback-classic/1.2.4/logback-classic-1.2.4-sources.jar\n",
      "Downloading https://repo1.maven.org/maven2/org/slf4j/slf4j-api/1.7.31/slf4j-api-1.7.31.jar\n",
      "Downloading https://repo1.maven.org/maven2/ch/qos/logback/logback-classic/1.2.4/logback-classic-1.2.4.jar\n",
      "Downloading https://repo1.maven.org/maven2/org/slf4j/slf4j-api/1.7.31/slf4j-api-1.7.31-sources.jar\n",
      "Downloading https://repo1.maven.org/maven2/ch/qos/logback/logback-core/1.2.4/logback-core-1.2.4.jar\n",
      "Downloaded https://repo1.maven.org/maven2/org/slf4j/slf4j-api/1.7.31/slf4j-api-1.7.31.jar\n",
      "Downloaded https://repo1.maven.org/maven2/ch/qos/logback/logback-classic/1.2.4/logback-classic-1.2.4-sources.jar\n",
      "Downloaded https://repo1.maven.org/maven2/org/slf4j/slf4j-api/1.7.31/slf4j-api-1.7.31-sources.jar\n",
      "Downloaded https://repo1.maven.org/maven2/ch/qos/logback/logback-core/1.2.4/logback-core-1.2.4-sources.jar\n",
      "Downloaded https://repo1.maven.org/maven2/ch/qos/logback/logback-classic/1.2.4/logback-classic-1.2.4.jar\n",
      "Downloaded https://repo1.maven.org/maven2/ch/qos/logback/logback-core/1.2.4/logback-core-1.2.4.jar\n"
     ]
    },
    {
     "data": {
      "text/plain": [
       "\u001b[32mimport \u001b[39m\u001b[36m$ivy.$                                     \n",
       "\u001b[39m\n",
       "\u001b[32mimport \u001b[39m\u001b[36m$ivy.$                                                       \n",
       "\u001b[39m\n",
       "\u001b[32mimport \u001b[39m\u001b[36m$ivy.$                                                                   \n",
       "\u001b[39m\n",
       "\u001b[32mimport \u001b[39m\u001b[36m$ivy.$                                           \n",
       "\u001b[39m\n",
       "\u001b[32mimport \u001b[39m\u001b[36m$ivy.$                                          \n",
       "\u001b[39m\n",
       "\u001b[32mimport \u001b[39m\u001b[36m$ivy.$                                      \n",
       "\n",
       "\u001b[39m\n",
       "\u001b[32mimport \u001b[39m\u001b[36mio.circe.parser._\n",
       "\u001b[39m\n",
       "\u001b[32mimport \u001b[39m\u001b[36msttp.client3.asynchttpclient.zio.{ send, AsyncHttpClientZioBackend }\n",
       "\u001b[39m\n",
       "\u001b[32mimport \u001b[39m\u001b[36msttp.client3.{ basicRequest, Request, _ }\n",
       "\u001b[39m\n",
       "\u001b[32mimport \u001b[39m\u001b[36mzio.IO\n",
       "\u001b[39m\n",
       "\u001b[32mimport \u001b[39m\u001b[36mzio.Task\u001b[39m"
      ]
     },
     "execution_count": 6,
     "metadata": {},
     "output_type": "execute_result"
    }
   ],
   "source": [
    "interp.configureCompiler(_.settings.YmacroAnnotations.value = true)\n",
    "\n",
    "import $ivy.`ch.qos.logback:logback-classic:1.2.4`\n",
    "import $ivy.`com.softwaremill.sttp.client3::akka-http-backend:3.5.0`\n",
    "import $ivy.`com.softwaremill.sttp.client3::async-http-client-backend-zio:3.5.0`\n",
    "import $ivy.`com.softwaremill.sttp.client3::circe:3.5.0`\n",
    "import $ivy.`com.softwaremill.sttp.client3::core:3.5.0`\n",
    "import $ivy.`io.circe::circe-generic-extras:0.14.1`\n",
    "\n",
    "import io.circe.parser._\n",
    "import sttp.client3.asynchttpclient.zio.{ send, AsyncHttpClientZioBackend }\n",
    "import sttp.client3.{ basicRequest, Request, _ }\n",
    "import zio.IO\n",
    "import zio.Task"
   ]
  },
  {
   "cell_type": "code",
   "execution_count": 7,
   "metadata": {
    "slideshow": {
     "slide_type": "skip"
    },
    "tags": []
   },
   "outputs": [
    {
     "name": "stdout",
     "output_type": "stream",
     "text": [
      "{\n",
      "  \"success\" : true\n",
      "}\n"
     ]
    }
   ],
   "source": [
    "private val uri = \"https://enwf1kwvx6vnf.x.pipedream.net/\"\n",
    "private val requestGET = basicRequest.get(uri\"$uri\")\n",
    "private val myAppLogic = (\n",
    "    for {\n",
    "        response  <- send(requestGET)\n",
    "        body      <- IO.fromEither(response.body).mapError(new RuntimeException(_))\n",
    "        jsonBody  <- Task.fromEither(parse(body).map(_.spaces2))\n",
    "    } yield jsonBody\n",
    ").provideCustomLayer(AsyncHttpClientZioBackend.layer())\n",
    "\n",
    "private val result = zio.Runtime.default.unsafeRun(myAppLogic)\n",
    "\n",
    "println(result)"
   ]
  },
  {
   "cell_type": "code",
   "execution_count": null,
   "metadata": {},
   "outputs": [],
   "source": []
  }
 ],
 "metadata": {
  "config": {
   "dependencies": {
    "scala": [
     "dev.zio:zio_2.13:1.0.13",
     "dev.zio:zio-test_2.13:1.0.13"
    ]
   },
   "env": {},
   "exclusions": [],
   "repositories": [],
   "sparkConfig": {}
  },
  "kernelspec": {
   "display_name": "Scala 2.13.5",
   "language": "scala",
   "name": "scala2.13.5"
  },
  "language_info": {
   "codemirror_mode": "text/x-scala",
   "file_extension": ".sc",
   "mimetype": "text/x-scala",
   "name": "scala",
   "nbconvert_exporter": "script",
   "version": "2.13.5"
  },
  "toc-autonumbering": false,
  "toc-showmarkdowntxt": false
 },
 "nbformat": 4,
 "nbformat_minor": 4
}
