{
 "cells": [
  {
   "cell_type": "markdown",
   "metadata": {
    "language": "text"
   },
   "source": [
    "# fasfads\n",
    "\n",
    "This is a text cell. Start editing!"
   ]
  },
  {
   "cell_type": "code",
   "execution_count": null,
   "metadata": {
    "cell.metadata.exec_info": {
     "endTs": 1645205657155,
     "startTs": 1645205657142
    },
    "language": "scala"
   },
   "outputs": [],
   "source": [
    "import $ivy.`dev.zio::zio:1.0.10`\n",
    "\n",
    "import zio.console._\n",
    "\n",
    "object MyApp extends zio.App {\n",
    "\n",
    "  def run(args: List[String]) =\n",
    "    myAppLogic.exitCode\n",
    "\n",
    "  val myAppLogic =\n",
    "    for {\n",
    "      _    <- putStrLn(\"Hello! What is your name?\")\n",
    "      name <- getStrLn\n",
    "      _    <- putStrLn(s\"Hello, ${name}, welcome to ZIO!\")\n",
    "    } yield ()\n",
    "}\n",
    "\n",
    "\n",
    "\n"
   ]
  },
  {
   "cell_type": "code",
   "execution_count": null,
   "metadata": {},
   "outputs": [],
   "source": [
    "MyApp.main(Array())"
   ]
  },
  {
   "cell_type": "code",
   "execution_count": null,
   "metadata": {},
   "outputs": [],
   "source": [
    "MyApp.map()"
   ]
  }
 ],
 "metadata": {
  "config": {
   "dependencies": {
    "scala": [
     "dev.zio:zio_2.13:1.0.13",
     "dev.zio:zio-test_2.13:1.0.13"
    ]
   },
   "env": {},
   "exclusions": [],
   "repositories": [],
   "sparkConfig": {}
  },
  "kernelspec": {
   "display_name": "Scala 2.13.4",
   "language": "scala",
   "name": "scala2.13.4"
  },
  "language_info": {
   "codemirror_mode": "text/x-scala",
   "file_extension": ".sc",
   "mimetype": "text/x-scala",
   "name": "scala",
   "nbconvert_exporter": "script",
   "version": "2.13.5"
  }
 },
 "nbformat": 4,
 "nbformat_minor": 4
}
